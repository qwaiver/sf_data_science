{
 "cells": [
  {
   "attachments": {},
   "cell_type": "markdown",
   "metadata": {},
   "source": [
    "Представьте, что вы занимаетесь подготовкой данных о вакансиях с платформы hh.ru. В вашем распоряжении имеется таблица, в которой с помощью парсинга собраны резюме кандидатов. В этой таблице есть текстовый столбец «Опыт работы». Пример такого столбца представлен ниже в виде объекта Series. Структура текста в столбце фиксирована и не может измениться.\n",
    "\n",
    "Напишите функцию get_experience(arg), аргументом которой является строка столбца с опытом работы. Функция должна возвращать опыт работы в месяцах. Не забудьте привести результат к целому числу.\n",
    "\n",
    "Обратите внимание, что опыт работы может выражаться только в годах или только в месяцах. Учтите это при построении своей функции. Кроме того, учтите возможные вариации слов месяц (месяца, месяцев) и год (года, лет).\n",
    "\n",
    "Примените вашу функцию к Series experience_col с помощью метода apply()."
   ]
  },
  {
   "cell_type": "code",
   "execution_count": 2,
   "metadata": {},
   "outputs": [
    {
     "name": "stdout",
     "output_type": "stream",
     "text": [
      "0    99\n",
      "1    41\n",
      "2    21\n",
      "3     3\n",
      "4    72\n",
      "dtype: int64\n",
      " \n",
      "0    60\n",
      "1     5\n",
      "2    13\n",
      "3     3\n",
      "4    84\n",
      "dtype: int64\n"
     ]
    }
   ],
   "source": [
    "import pandas as pd\n",
    "test_series_1 = pd.Series([\n",
    "    'Опыт работы 8 лет 3 месяца',\n",
    "    'Опыт работы 3 года 5 месяцев',\n",
    "    'Опыт работы 1 год 9 месяцев',\n",
    "    'Опыт работы 3 месяца',\n",
    "    'Опыт работы 6 лет'\n",
    "])\n",
    "\n",
    "test_series_2 = pd.Series([\n",
    "    'Опыт работы 5 лет',\n",
    "    'Опыт работы 5 месяцев',\n",
    "    'Опыт работы 1 год 1 месяц',\n",
    "    'Опыт работы 3 месяца',\n",
    "    'Опыт работы 7 лет'\n",
    "])\n",
    "\n",
    "\n",
    "def get_experience(arg):\n",
    "    year_key = ['лет', 'год', 'года']\n",
    "    month_key = ['месяц', 'месяца', 'месяцев']\n",
    "    date = arg.split(' ')\n",
    "    year = 0\n",
    "    month = 0\n",
    "    for i in range(len(date)):\n",
    "        if date[i] in year_key:\n",
    "            year = date[i - 1]\n",
    "        if date[i] in month_key:\n",
    "            month = date[i - 1]\n",
    "    return int(year)*12+int(month)\n",
    "\n",
    "print(test_series_1.apply(get_experience))\n",
    "print(' ')\n",
    "print(test_series_2.apply(get_experience))"
   ]
  }
 ],
 "metadata": {
  "kernelspec": {
   "display_name": "Python 3",
   "language": "python",
   "name": "python3"
  },
  "language_info": {
   "codemirror_mode": {
    "name": "ipython",
    "version": 3
   },
   "file_extension": ".py",
   "mimetype": "text/x-python",
   "name": "python",
   "nbconvert_exporter": "python",
   "pygments_lexer": "ipython3",
   "version": "3.11.0"
  },
  "orig_nbformat": 4,
  "vscode": {
   "interpreter": {
    "hash": "3b03d3ad6b1336e6e4949d619e4badd72fec28959454a0e0d6a04b545beba08a"
   }
  }
 },
 "nbformat": 4,
 "nbformat_minor": 2
}
