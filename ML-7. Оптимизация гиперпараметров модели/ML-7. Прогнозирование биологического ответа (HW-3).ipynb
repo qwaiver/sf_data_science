{
 "cells": [
  {
   "cell_type": "code",
   "execution_count": 1,
   "metadata": {},
   "outputs": [
    {
     "name": "stderr",
     "output_type": "stream",
     "text": [
      "d:\\Program Files\\Python311\\Lib\\site-packages\\tqdm\\auto.py:21: TqdmWarning: IProgress not found. Please update jupyter and ipywidgets. See https://ipywidgets.readthedocs.io/en/stable/user_install.html\n",
      "  from .autonotebook import tqdm as notebook_tqdm\n"
     ]
    }
   ],
   "source": [
    "#импорт библиотек\n",
    "import numpy as np #для матричных вычислений\n",
    "import pandas as pd #для анализа и предобработки данных\n",
    "import matplotlib.pyplot as plt #для визуализации\n",
    "import seaborn as sns #для визуализации\n",
    "\n",
    "from sklearn import linear_model #линейные моделиё\n",
    "from sklearn import tree #деревья решений\n",
    "from sklearn import ensemble #ансамбли\n",
    "from sklearn import metrics #метрики\n",
    "from sklearn.model_selection import train_test_split #сплитование выборки\n",
    "\n",
    "from sklearn.model_selection import GridSearchCV\n",
    "from sklearn.model_selection import RandomizedSearchCV\n",
    "from sklearn.model_selection import cross_val_score\n",
    "import hyperopt\n",
    "from hyperopt import hp, fmin, tpe, Trials\n",
    "import optuna"
   ]
  },
  {
   "cell_type": "code",
   "execution_count": 2,
   "metadata": {},
   "outputs": [
    {
     "data": {
      "text/html": [
       "<div>\n",
       "<style scoped>\n",
       "    .dataframe tbody tr th:only-of-type {\n",
       "        vertical-align: middle;\n",
       "    }\n",
       "\n",
       "    .dataframe tbody tr th {\n",
       "        vertical-align: top;\n",
       "    }\n",
       "\n",
       "    .dataframe thead th {\n",
       "        text-align: right;\n",
       "    }\n",
       "</style>\n",
       "<table border=\"1\" class=\"dataframe\">\n",
       "  <thead>\n",
       "    <tr style=\"text-align: right;\">\n",
       "      <th></th>\n",
       "      <th>Activity</th>\n",
       "      <th>D1</th>\n",
       "      <th>D2</th>\n",
       "      <th>D3</th>\n",
       "      <th>D4</th>\n",
       "      <th>D5</th>\n",
       "      <th>D6</th>\n",
       "      <th>D7</th>\n",
       "      <th>D8</th>\n",
       "      <th>D9</th>\n",
       "      <th>...</th>\n",
       "      <th>D1767</th>\n",
       "      <th>D1768</th>\n",
       "      <th>D1769</th>\n",
       "      <th>D1770</th>\n",
       "      <th>D1771</th>\n",
       "      <th>D1772</th>\n",
       "      <th>D1773</th>\n",
       "      <th>D1774</th>\n",
       "      <th>D1775</th>\n",
       "      <th>D1776</th>\n",
       "    </tr>\n",
       "  </thead>\n",
       "  <tbody>\n",
       "    <tr>\n",
       "      <th>0</th>\n",
       "      <td>1</td>\n",
       "      <td>0.000000</td>\n",
       "      <td>0.497009</td>\n",
       "      <td>0.10</td>\n",
       "      <td>0.0</td>\n",
       "      <td>0.132956</td>\n",
       "      <td>0.678031</td>\n",
       "      <td>0.273166</td>\n",
       "      <td>0.585445</td>\n",
       "      <td>0.743663</td>\n",
       "      <td>...</td>\n",
       "      <td>0</td>\n",
       "      <td>0</td>\n",
       "      <td>0</td>\n",
       "      <td>0</td>\n",
       "      <td>0</td>\n",
       "      <td>0</td>\n",
       "      <td>0</td>\n",
       "      <td>0</td>\n",
       "      <td>0</td>\n",
       "      <td>0</td>\n",
       "    </tr>\n",
       "    <tr>\n",
       "      <th>1</th>\n",
       "      <td>1</td>\n",
       "      <td>0.366667</td>\n",
       "      <td>0.606291</td>\n",
       "      <td>0.05</td>\n",
       "      <td>0.0</td>\n",
       "      <td>0.111209</td>\n",
       "      <td>0.803455</td>\n",
       "      <td>0.106105</td>\n",
       "      <td>0.411754</td>\n",
       "      <td>0.836582</td>\n",
       "      <td>...</td>\n",
       "      <td>1</td>\n",
       "      <td>1</td>\n",
       "      <td>1</td>\n",
       "      <td>1</td>\n",
       "      <td>0</td>\n",
       "      <td>1</td>\n",
       "      <td>0</td>\n",
       "      <td>0</td>\n",
       "      <td>1</td>\n",
       "      <td>0</td>\n",
       "    </tr>\n",
       "    <tr>\n",
       "      <th>2</th>\n",
       "      <td>1</td>\n",
       "      <td>0.033300</td>\n",
       "      <td>0.480124</td>\n",
       "      <td>0.00</td>\n",
       "      <td>0.0</td>\n",
       "      <td>0.209791</td>\n",
       "      <td>0.610350</td>\n",
       "      <td>0.356453</td>\n",
       "      <td>0.517720</td>\n",
       "      <td>0.679051</td>\n",
       "      <td>...</td>\n",
       "      <td>0</td>\n",
       "      <td>0</td>\n",
       "      <td>0</td>\n",
       "      <td>0</td>\n",
       "      <td>0</td>\n",
       "      <td>0</td>\n",
       "      <td>0</td>\n",
       "      <td>0</td>\n",
       "      <td>0</td>\n",
       "      <td>0</td>\n",
       "    </tr>\n",
       "    <tr>\n",
       "      <th>3</th>\n",
       "      <td>1</td>\n",
       "      <td>0.000000</td>\n",
       "      <td>0.538825</td>\n",
       "      <td>0.00</td>\n",
       "      <td>0.5</td>\n",
       "      <td>0.196344</td>\n",
       "      <td>0.724230</td>\n",
       "      <td>0.235606</td>\n",
       "      <td>0.288764</td>\n",
       "      <td>0.805110</td>\n",
       "      <td>...</td>\n",
       "      <td>0</td>\n",
       "      <td>0</td>\n",
       "      <td>0</td>\n",
       "      <td>0</td>\n",
       "      <td>0</td>\n",
       "      <td>0</td>\n",
       "      <td>0</td>\n",
       "      <td>0</td>\n",
       "      <td>0</td>\n",
       "      <td>0</td>\n",
       "    </tr>\n",
       "    <tr>\n",
       "      <th>4</th>\n",
       "      <td>0</td>\n",
       "      <td>0.100000</td>\n",
       "      <td>0.517794</td>\n",
       "      <td>0.00</td>\n",
       "      <td>0.0</td>\n",
       "      <td>0.494734</td>\n",
       "      <td>0.781422</td>\n",
       "      <td>0.154361</td>\n",
       "      <td>0.303809</td>\n",
       "      <td>0.812646</td>\n",
       "      <td>...</td>\n",
       "      <td>0</td>\n",
       "      <td>0</td>\n",
       "      <td>0</td>\n",
       "      <td>0</td>\n",
       "      <td>0</td>\n",
       "      <td>0</td>\n",
       "      <td>0</td>\n",
       "      <td>0</td>\n",
       "      <td>0</td>\n",
       "      <td>0</td>\n",
       "    </tr>\n",
       "  </tbody>\n",
       "</table>\n",
       "<p>5 rows × 1777 columns</p>\n",
       "</div>"
      ],
      "text/plain": [
       "   Activity        D1        D2    D3   D4        D5        D6        D7  \\\n",
       "0         1  0.000000  0.497009  0.10  0.0  0.132956  0.678031  0.273166   \n",
       "1         1  0.366667  0.606291  0.05  0.0  0.111209  0.803455  0.106105   \n",
       "2         1  0.033300  0.480124  0.00  0.0  0.209791  0.610350  0.356453   \n",
       "3         1  0.000000  0.538825  0.00  0.5  0.196344  0.724230  0.235606   \n",
       "4         0  0.100000  0.517794  0.00  0.0  0.494734  0.781422  0.154361   \n",
       "\n",
       "         D8        D9  ...  D1767  D1768  D1769  D1770  D1771  D1772  D1773  \\\n",
       "0  0.585445  0.743663  ...      0      0      0      0      0      0      0   \n",
       "1  0.411754  0.836582  ...      1      1      1      1      0      1      0   \n",
       "2  0.517720  0.679051  ...      0      0      0      0      0      0      0   \n",
       "3  0.288764  0.805110  ...      0      0      0      0      0      0      0   \n",
       "4  0.303809  0.812646  ...      0      0      0      0      0      0      0   \n",
       "\n",
       "   D1774  D1775  D1776  \n",
       "0      0      0      0  \n",
       "1      0      1      0  \n",
       "2      0      0      0  \n",
       "3      0      0      0  \n",
       "4      0      0      0  \n",
       "\n",
       "[5 rows x 1777 columns]"
      ]
     },
     "execution_count": 2,
     "metadata": {},
     "output_type": "execute_result"
    }
   ],
   "source": [
    "data = pd.read_csv('data/_train_sem09.csv')\n",
    "data.head()"
   ]
  },
  {
   "cell_type": "code",
   "execution_count": 3,
   "metadata": {},
   "outputs": [],
   "source": [
    "X = data.drop(['Activity'], axis=1)\n",
    "y = data['Activity']"
   ]
  },
  {
   "cell_type": "code",
   "execution_count": 4,
   "metadata": {},
   "outputs": [],
   "source": [
    "X_train, X_test, y_train, y_test = train_test_split(X, y, stratify=y, random_state = 1, test_size = 0.2)"
   ]
  },
  {
   "cell_type": "markdown",
   "metadata": {},
   "source": [
    "# Логичиская регрессия"
   ]
  },
  {
   "cell_type": "code",
   "execution_count": null,
   "metadata": {},
   "outputs": [],
   "source": [
    "random_state = 42"
   ]
  },
  {
   "cell_type": "code",
   "execution_count": 5,
   "metadata": {},
   "outputs": [
    {
     "name": "stdout",
     "output_type": "stream",
     "text": [
      "f1_score на тестовом наборе: 0.78\n"
     ]
    }
   ],
   "source": [
    "#создадим и обучим логистическую регрессию без подбора гиперпараметров\n",
    "log_reg = linear_model.LogisticRegression(random_state=random_state, max_iter=1000)\n",
    "log_reg.fit(X_train, y_train)\n",
    "y_test_pred = log_reg.predict(X_test)\n",
    "print(f'f1_score на тестовом наборе: {metrics.f1_score(y_test, y_test_pred):.2f}')"
   ]
  },
  {
   "cell_type": "markdown",
   "metadata": {},
   "source": [
    "## GridSearchCV"
   ]
  },
  {
   "cell_type": "code",
   "execution_count": 6,
   "metadata": {},
   "outputs": [
    {
     "name": "stdout",
     "output_type": "stream",
     "text": [
      "CPU times: total: 2.03 s\n",
      "Wall time: 1h 9min 56s\n",
      "f1_score на тестовом наборе: 0.79\n",
      "Наилучшие значения гиперпараметров: {'C': 0.1, 'penalty': 'l2', 'solver': 'liblinear'}\n"
     ]
    }
   ],
   "source": [
    "param_grid = [\n",
    "              {'penalty': ['l2', 'none'] ,\n",
    "              'solver': ['lbfgs', 'sag'],\n",
    "               'C': [0.01, 0.1, 0.3, 0.5, 0.7, 0.9, 1]},\n",
    "              \n",
    "              {'penalty': ['l1', 'l2'] ,\n",
    "              'solver': ['liblinear', 'saga'],\n",
    "               'C': [0.01, 0.1, 0.3, 0.5, 0.7, 0.9, 1]}\n",
    "]\n",
    "grid_search_lg = GridSearchCV(\n",
    "    estimator=linear_model.LogisticRegression(random_state=random_state, max_iter=8000), \n",
    "    param_grid=param_grid, \n",
    "    cv=5, \n",
    "    n_jobs = -1\n",
    ")  \n",
    "%time grid_search_lg.fit(X_train, y_train) \n",
    "\n",
    "y_test_pred = grid_search_lg.predict(X_test)\n",
    "print(f'f1_score на тестовом наборе: {metrics.f1_score(y_test, y_test_pred):.2f}')\n",
    "print(f'Наилучшие значения гиперпараметров: {grid_search_lg.best_params_}')"
   ]
  },
  {
   "cell_type": "markdown",
   "metadata": {},
   "source": [
    "## RandomizedSearchCV"
   ]
  },
  {
   "cell_type": "code",
   "execution_count": 7,
   "metadata": {},
   "outputs": [
    {
     "name": "stdout",
     "output_type": "stream",
     "text": [
      "CPU times: total: 1.56 s\n",
      "Wall time: 52min 13s\n",
      "f1_score на тестовом наборе: 0.79\n",
      "Наилучшие значения гиперпараметров: {'solver': 'lbfgs', 'penalty': 'l2', 'C': 0.12}\n"
     ]
    }
   ],
   "source": [
    "param_grid = {'penalty': ['l2', 'none'],\n",
    "              'solver': ['lbfgs', 'sag'],\n",
    "               'C': list(np.linspace(0.01, 1, 10, dtype=float))},\n",
    "            \n",
    "random_search_lg = RandomizedSearchCV(\n",
    "    estimator=linear_model.LogisticRegression(random_state=random_state, max_iter=8000), \n",
    "    param_distributions=param_grid, \n",
    "    cv=5, \n",
    "    n_iter = 30, \n",
    "    n_jobs = -1\n",
    ")  \n",
    "%time random_search_lg.fit(X_train, y_train) \n",
    "y_test_pred = random_search_lg.predict(X_test)\n",
    "print(f'f1_score на тестовом наборе: {metrics.f1_score(y_test, y_test_pred):.2f}')\n",
    "print(f'Наилучшие значения гиперпараметров: {random_search_lg.best_params_}')"
   ]
  },
  {
   "cell_type": "markdown",
   "metadata": {},
   "source": [
    "## Hyperopt"
   ]
  },
  {
   "cell_type": "code",
   "execution_count": 8,
   "metadata": {},
   "outputs": [],
   "source": [
    "space={'penalty': hp.choice('penalty', ['l2', 'none']),\n",
    "       'solver' : hp.choice('solver', ['saga', 'sag', 'lbfgs'])\n",
    "      }  "
   ]
  },
  {
   "cell_type": "code",
   "execution_count": 9,
   "metadata": {},
   "outputs": [],
   "source": [
    "def hyperopt_rf(params, cv=5, X=X_train, y=y_train, random_state=random_state):\n",
    "    params = {'penalty': params['penalty'], \n",
    "              'solver': params['solver']\n",
    "              }\n",
    "  \n",
    "    model = linear_model.LogisticRegression(**params, random_state=random_state, max_iter=8000)\n",
    "\n",
    "    #обучаем модель с помощью кросс-валидации\n",
    "    #применяем cross validation с тем же количеством фолдов\n",
    "    score = cross_val_score(model, X, y, cv=cv, scoring=\"f1\", n_jobs=-1).mean()\n",
    "\n",
    "    #минимизируем метрику\n",
    "    return -score"
   ]
  },
  {
   "cell_type": "code",
   "execution_count": 19,
   "metadata": {},
   "outputs": [
    {
     "name": "stdout",
     "output_type": "stream",
     "text": [
      "100%|██████████| 30/30 [49:42<00:00, 99.42s/trial, best loss: -0.7700109914680013]  \n",
      "Наилучшие значения гиперпараметров {'penalty': 0, 'solver': 1}\n"
     ]
    }
   ],
   "source": [
    "#начинаем подбор гиперпараметров\n",
    "trials = Trials()\n",
    "\n",
    "best=fmin(hyperopt_rf,\n",
    "          space=space,\n",
    "          algo=tpe.suggest,\n",
    "          max_evals=30,\n",
    "          trials=trials,\n",
    "          rstate=np.random.default_rng(random_state)\n",
    "         )\n",
    "print(f'Наилучшие значения гиперпараметров {best}')"
   ]
  },
  {
   "cell_type": "code",
   "execution_count": 20,
   "metadata": {},
   "outputs": [
    {
     "name": "stdout",
     "output_type": "stream",
     "text": [
      "f1_score на обучающем наборе: 0.89\n",
      "f1_score на тестовом наборе: 0.78\n"
     ]
    }
   ],
   "source": [
    "#рассчитаем f1_score для тестовой выборки\n",
    "\n",
    "model = linear_model.LogisticRegression(penalty='l2', solver='sag', random_state=random_state, max_iter=1000)\n",
    "model.fit(X_train, y_train)\n",
    "y_train_pred = model.predict(X_train)\n",
    "print(f'f1_score на обучающем наборе: {metrics.f1_score(y_train, y_train_pred):.2f}')\n",
    "\n",
    "y_test_pred = model.predict(X_test)\n",
    "print(f'f1_score на тестовом наборе: {metrics.f1_score(y_test, y_test_pred):.2f}')"
   ]
  },
  {
   "cell_type": "markdown",
   "metadata": {},
   "source": [
    "## Optuna"
   ]
  },
  {
   "cell_type": "code",
   "execution_count": 21,
   "metadata": {},
   "outputs": [],
   "source": [
    "def optuna_lr(trial):\n",
    "  \n",
    "  penalty = trial.suggest_categorical('penalty', ['l2', 'none'])\n",
    "  solver = trial.suggest_categorical('solver', ['lbfgs', 'sag'])\n",
    "  C = trial.suggest_float('C', 0.01, 1)\n",
    "  \n",
    "  model = linear_model.LogisticRegression(penalty=penalty,\n",
    "                                          solver=solver,\n",
    "                                          C=C,\n",
    "                                          random_state=random_state,\n",
    "                                          max_iter=8000)\n",
    "\n",
    "  #обучаем модель с помощью кросс-валидации\n",
    "  #применяем cross validation с тем же количеством фолдов\n",
    "  score = cross_val_score(model, X_train, y_train, cv=5, scoring=\"f1\", n_jobs=-1).mean()\n",
    "\n",
    "  return score"
   ]
  },
  {
   "cell_type": "code",
   "execution_count": 22,
   "metadata": {},
   "outputs": [
    {
     "name": "stderr",
     "output_type": "stream",
     "text": [
      "[I 2023-08-08 15:57:43,209] A new study created in memory with name: LogisticRegression\n",
      "[I 2023-08-08 15:57:46,442] Trial 0 finished with value: 0.7822848471830538 and parameters: {'penalty': 'l2', 'solver': 'lbfgs', 'C': 0.12551137788607353}. Best is trial 0 with value: 0.7822848471830538.\n",
      "[I 2023-08-08 16:05:49,932] Trial 1 finished with value: 0.7380334294277232 and parameters: {'penalty': 'none', 'solver': 'sag', 'C': 0.2848167907086396}. Best is trial 0 with value: 0.7822848471830538.\n",
      "[I 2023-08-08 16:05:55,765] Trial 2 finished with value: 0.7713904580293399 and parameters: {'penalty': 'l2', 'solver': 'lbfgs', 'C': 0.6806158183220073}. Best is trial 0 with value: 0.7822848471830538.\n",
      "[I 2023-08-08 16:13:49,568] Trial 3 finished with value: 0.7380334294277232 and parameters: {'penalty': 'none', 'solver': 'sag', 'C': 0.7902304412863672}. Best is trial 0 with value: 0.7822848471830538.\n",
      "[I 2023-08-08 16:13:55,654] Trial 4 finished with value: 0.7719428419613066 and parameters: {'penalty': 'l2', 'solver': 'lbfgs', 'C': 0.9136290933079602}. Best is trial 0 with value: 0.7822848471830538.\n",
      "[I 2023-08-08 16:14:11,543] Trial 5 finished with value: 0.7116624833502214 and parameters: {'penalty': 'none', 'solver': 'lbfgs', 'C': 0.9821320601252841}. Best is trial 0 with value: 0.7822848471830538.\n",
      "[I 2023-08-08 16:14:15,080] Trial 6 finished with value: 0.7808840359340592 and parameters: {'penalty': 'l2', 'solver': 'lbfgs', 'C': 0.2124672947087595}. Best is trial 0 with value: 0.7822848471830538.\n",
      "[I 2023-08-08 16:14:55,711] Trial 7 finished with value: 0.7705699901911316 and parameters: {'penalty': 'l2', 'solver': 'sag', 'C': 0.6832398309448929}. Best is trial 0 with value: 0.7822848471830538.\n",
      "[I 2023-08-08 16:15:00,311] Trial 8 finished with value: 0.7723207271027116 and parameters: {'penalty': 'l2', 'solver': 'lbfgs', 'C': 0.5401450676737317}. Best is trial 0 with value: 0.7822848471830538.\n",
      "[I 2023-08-08 16:15:22,771] Trial 9 finished with value: 0.7813947774229926 and parameters: {'penalty': 'l2', 'solver': 'sag', 'C': 0.06663320209408441}. Best is trial 0 with value: 0.7822848471830538.\n",
      "[I 2023-08-08 16:15:37,973] Trial 10 finished with value: 0.7116624833502214 and parameters: {'penalty': 'none', 'solver': 'lbfgs', 'C': 0.33523001002987907}. Best is trial 0 with value: 0.7822848471830538.\n",
      "[I 2023-08-08 16:15:46,422] Trial 11 finished with value: 0.7809645674914993 and parameters: {'penalty': 'l2', 'solver': 'sag', 'C': 0.011890464891925578}. Best is trial 0 with value: 0.7822848471830538.\n",
      "[I 2023-08-08 16:16:06,670] Trial 12 finished with value: 0.7825011073890153 and parameters: {'penalty': 'l2', 'solver': 'sag', 'C': 0.055231783015048774}. Best is trial 12 with value: 0.7825011073890153.\n",
      "[I 2023-08-08 16:16:40,620] Trial 13 finished with value: 0.7822763330870616 and parameters: {'penalty': 'l2', 'solver': 'sag', 'C': 0.1616947710150971}. Best is trial 12 with value: 0.7825011073890153.\n",
      "[I 2023-08-08 16:16:44,779] Trial 14 finished with value: 0.7770340869789649 and parameters: {'penalty': 'l2', 'solver': 'lbfgs', 'C': 0.4065691494755875}. Best is trial 12 with value: 0.7825011073890153.\n",
      "[I 2023-08-08 16:17:12,490] Trial 15 finished with value: 0.780930815034904 and parameters: {'penalty': 'l2', 'solver': 'sag', 'C': 0.10212722043677033}. Best is trial 12 with value: 0.7825011073890153.\n",
      "[I 2023-08-08 16:17:21,862] Trial 16 finished with value: 0.7814134463479706 and parameters: {'penalty': 'l2', 'solver': 'sag', 'C': 0.013768114093895736}. Best is trial 12 with value: 0.7825011073890153.\n",
      "[I 2023-08-08 16:17:25,256] Trial 17 finished with value: 0.7818447596274133 and parameters: {'penalty': 'l2', 'solver': 'lbfgs', 'C': 0.19017698910478628}. Best is trial 12 with value: 0.7825011073890153.\n",
      "[I 2023-08-08 16:17:40,281] Trial 18 finished with value: 0.7116624833502214 and parameters: {'penalty': 'none', 'solver': 'lbfgs', 'C': 0.14552744999575878}. Best is trial 12 with value: 0.7825011073890153.\n",
      "[I 2023-08-08 16:18:20,124] Trial 19 finished with value: 0.7791174185492495 and parameters: {'penalty': 'l2', 'solver': 'sag', 'C': 0.2685373233882661}. Best is trial 12 with value: 0.7825011073890153.\n",
      "[I 2023-08-08 16:18:24,503] Trial 20 finished with value: 0.7770340869789649 and parameters: {'penalty': 'l2', 'solver': 'lbfgs', 'C': 0.40178386873048977}. Best is trial 12 with value: 0.7825011073890153.\n",
      "[I 2023-08-08 16:18:55,111] Trial 21 finished with value: 0.7831200474201816 and parameters: {'penalty': 'l2', 'solver': 'sag', 'C': 0.13280793650076905}. Best is trial 21 with value: 0.7831200474201816.\n",
      "[I 2023-08-08 16:19:23,677] Trial 22 finished with value: 0.7816866839012231 and parameters: {'penalty': 'l2', 'solver': 'sag', 'C': 0.11405987769649656}. Best is trial 21 with value: 0.7831200474201816.\n",
      "[I 2023-08-08 16:20:01,036] Trial 23 finished with value: 0.7801731750866645 and parameters: {'penalty': 'l2', 'solver': 'sag', 'C': 0.2185404614616984}. Best is trial 21 with value: 0.7831200474201816.\n",
      "[I 2023-08-08 16:20:26,310] Trial 24 finished with value: 0.7828335492320182 and parameters: {'penalty': 'l2', 'solver': 'sag', 'C': 0.0838936413141714}. Best is trial 21 with value: 0.7831200474201816.\n",
      "[I 2023-08-08 16:20:35,221] Trial 25 finished with value: 0.7819097595646568 and parameters: {'penalty': 'l2', 'solver': 'sag', 'C': 0.012987509681409146}. Best is trial 21 with value: 0.7831200474201816.\n",
      "[I 2023-08-08 16:28:32,165] Trial 26 finished with value: 0.7380334294277232 and parameters: {'penalty': 'none', 'solver': 'sag', 'C': 0.07164919597010011}. Best is trial 21 with value: 0.7831200474201816.\n",
      "[I 2023-08-08 16:29:09,634] Trial 27 finished with value: 0.7801731750866645 and parameters: {'penalty': 'l2', 'solver': 'sag', 'C': 0.21827862899196365}. Best is trial 21 with value: 0.7831200474201816.\n",
      "[I 2023-08-08 16:29:39,078] Trial 28 finished with value: 0.7816511656086778 and parameters: {'penalty': 'l2', 'solver': 'sag', 'C': 0.10927346954631129}. Best is trial 21 with value: 0.7831200474201816.\n",
      "[I 2023-08-08 16:30:10,512] Trial 29 finished with value: 0.7831200474201816 and parameters: {'penalty': 'l2', 'solver': 'sag', 'C': 0.13480811098441103}. Best is trial 21 with value: 0.7831200474201816.\n"
     ]
    },
    {
     "name": "stdout",
     "output_type": "stream",
     "text": [
      "CPU times: total: 1.05 s\n",
      "Wall time: 32min 27s\n"
     ]
    }
   ],
   "source": [
    "%%time\n",
    "#cоздаем объект исследования\n",
    "#указываем, что нам необходимо максимизировать метрику direction=\"maximize\"\n",
    "study = optuna.create_study(study_name=\"LogisticRegression\", direction=\"maximize\")\n",
    "#ищем лучшую комбинацию гиперпараметров n_trials раз\n",
    "study.optimize(optuna_lr, n_trials=30)"
   ]
  },
  {
   "cell_type": "code",
   "execution_count": 23,
   "metadata": {},
   "outputs": [
    {
     "name": "stdout",
     "output_type": "stream",
     "text": [
      "Наилучшие значения гиперпараметров {'penalty': 'l2', 'solver': 'sag', 'C': 0.13280793650076905}\n",
      "f1_score на обучающем наборе: 0.78\n"
     ]
    }
   ],
   "source": [
    "#выводим результаты на обучающей выборке\n",
    "print(f'Наилучшие значения гиперпараметров {study.best_params}')\n",
    "print(f'f1_score на обучающем наборе: {study.best_value:.2f}')"
   ]
  },
  {
   "cell_type": "code",
   "execution_count": 24,
   "metadata": {},
   "outputs": [
    {
     "name": "stdout",
     "output_type": "stream",
     "text": [
      "f1_score на тестовом наборе: 0.79\n"
     ]
    }
   ],
   "source": [
    "#рассчитаем точность для тестовой выборки\n",
    "model = linear_model.LogisticRegression(**study.best_params, random_state=random_state, max_iter=1000)\n",
    "model.fit(X_train, y_train)\n",
    "y_test_pred = model.predict(X_test)\n",
    "print(f'f1_score на тестовом наборе: {metrics.f1_score(y_test, y_test_pred):.2f}')"
   ]
  },
  {
   "cell_type": "markdown",
   "metadata": {},
   "source": [
    "# Случайны лес"
   ]
  },
  {
   "cell_type": "code",
   "execution_count": 25,
   "metadata": {},
   "outputs": [
    {
     "name": "stdout",
     "output_type": "stream",
     "text": [
      "Train: 1.00\n",
      "Test: 0.81\n"
     ]
    }
   ],
   "source": [
    "\n",
    "#Создаем и обучаем случайный лес без подбора гиперпараметров\n",
    "rf = ensemble.RandomForestClassifier(random_state=random_state)\n",
    "rf.fit(X_train, y_train)\n",
    "\n",
    "y_train_pred = rf.predict(X_train)\n",
    "print(f'Train: {metrics.f1_score(y_train, y_train_pred):.2f}')\n",
    "y_test_pred = rf.predict(X_test)\n",
    "print(f'Test: {metrics.f1_score(y_test, y_test_pred):.2f}')"
   ]
  },
  {
   "cell_type": "markdown",
   "metadata": {},
   "source": [
    "## GridSearchCV"
   ]
  },
  {
   "cell_type": "code",
   "execution_count": 26,
   "metadata": {},
   "outputs": [
    {
     "name": "stdout",
     "output_type": "stream",
     "text": [
      "CPU times: total: 6.06 s\n",
      "Wall time: 2min 28s\n",
      "f1_score на обучающем наборе: 0.99\n",
      "f1_score на тестовом наборе: 0.82\n",
      "Наилучшие значения гиперпараметров: {'max_depth': 25, 'min_samples_leaf': 2, 'n_estimators': 280}\n"
     ]
    }
   ],
   "source": [
    "param_grid = {'n_estimators': list(range(100, 300, 30)),\n",
    "              'min_samples_leaf': list(np.linspace(2, 10, 1, dtype=int)),\n",
    "              'max_depth': list(np.linspace(20, 40, 5, dtype=int))\n",
    "              }\n",
    "            \n",
    "grid_search_forest = GridSearchCV(\n",
    "    estimator=ensemble.RandomForestClassifier(random_state=random_state), \n",
    "    param_grid=param_grid, \n",
    "    cv=5, \n",
    "    n_jobs = -1\n",
    ")  \n",
    "%time grid_search_forest.fit(X_train, y_train) \n",
    "y_train_pred = grid_search_forest.predict(X_train)\n",
    "print(f'f1_score на обучающем наборе: {metrics.f1_score(y_train, y_train_pred):.2f}')\n",
    "y_test_pred = grid_search_forest.predict(X_test)\n",
    "print(f'f1_score на тестовом наборе: {metrics.f1_score(y_test, y_test_pred):.2f}')\n",
    "print(f'Наилучшие значения гиперпараметров: {grid_search_forest.best_params_}')"
   ]
  },
  {
   "cell_type": "markdown",
   "metadata": {},
   "source": [
    "## RandomizedSearchCV"
   ]
  },
  {
   "cell_type": "code",
   "execution_count": 27,
   "metadata": {},
   "outputs": [
    {
     "name": "stdout",
     "output_type": "stream",
     "text": [
      "CPU times: total: 5.67 s\n",
      "Wall time: 1min 24s\n",
      "f1_score на обучающем наборе: 0.99\n",
      "f1_score на тестовом наборе: 0.82\n",
      "Наилучшие значения гиперпараметров: {'n_estimators': 280, 'min_samples_leaf': 2, 'max_depth': 28}\n"
     ]
    }
   ],
   "source": [
    "param_grid = {'n_estimators': list(range(100, 300, 30)),\n",
    "              'min_samples_leaf': list(np.linspace(2, 10, 1, dtype=int)),\n",
    "              'max_depth': list(np.linspace(20, 40, 10, dtype=int))\n",
    "              }\n",
    "            \n",
    "random_search_forest = RandomizedSearchCV(\n",
    "    estimator=ensemble.RandomForestClassifier(random_state=random_state), \n",
    "    param_distributions=param_grid, \n",
    "    cv=5,\n",
    "    n_iter = 20, \n",
    "    n_jobs = -1\n",
    ")  \n",
    "%time random_search_forest.fit(X_train, y_train) \n",
    "y_train_pred = random_search_forest.predict(X_train)\n",
    "print(f'f1_score на обучающем наборе: {metrics.f1_score(y_train, y_train_pred):.2f}')\n",
    "y_test_pred = random_search_forest.predict(X_test)\n",
    "print(f'f1_score на тестовом наборе: {metrics.f1_score(y_test, y_test_pred):.2f}')\n",
    "print(f'Наилучшие значения гиперпараметров: {random_search_forest.best_params_}')"
   ]
  },
  {
   "cell_type": "markdown",
   "metadata": {},
   "source": [
    "## Hyperopt"
   ]
  },
  {
   "cell_type": "code",
   "execution_count": 28,
   "metadata": {},
   "outputs": [],
   "source": [
    "space={'n_estimators': hp.quniform('n_estimators', 100, 300, 30),\n",
    "       'max_depth' : hp.quniform('max_depth', 20, 40, 10),\n",
    "       'min_samples_leaf': hp.quniform('min_samples_leaf', 2, 10, 1)\n",
    "      }"
   ]
  },
  {
   "cell_type": "code",
   "execution_count": 29,
   "metadata": {},
   "outputs": [],
   "source": [
    "def hyperopt_rf(params, cv=5, X=X_train, y=y_train, random_state=random_state):\n",
    "    params = {'n_estimators': int(params['n_estimators']), \n",
    "              'max_depth': int(params['max_depth']), \n",
    "             'min_samples_leaf': int(params['min_samples_leaf'])\n",
    "              }\n",
    "  \n",
    "    model = ensemble.RandomForestClassifier(**params, random_state=random_state)\n",
    "    \n",
    "    #обучаем модель с помощью кросс-валидации\n",
    "    #применяем cross validation с тем же количеством фолдов\n",
    "    score = cross_val_score(model, X, y, cv=cv, scoring=\"f1\", n_jobs=-1).mean()\n",
    "\n",
    "    return -score"
   ]
  },
  {
   "cell_type": "code",
   "execution_count": 30,
   "metadata": {},
   "outputs": [
    {
     "name": "stdout",
     "output_type": "stream",
     "text": [
      "100%|██████████| 20/20 [01:26<00:00,  4.30s/trial, best loss: -0.8105395273906474]\n",
      "Наилучшие значения гиперпараметров {'max_depth': 30.0, 'min_samples_leaf': 3.0, 'n_estimators': 240.0}\n",
      "CPU times: total: 531 ms\n",
      "Wall time: 1min 26s\n"
     ]
    }
   ],
   "source": [
    "%%time\n",
    "#подбор гиперпараметров\n",
    "\n",
    "trials = Trials()\n",
    "\n",
    "best=fmin(hyperopt_rf,\n",
    "          space=space,\n",
    "          algo=tpe.suggest,\n",
    "          max_evals=20,\n",
    "          trials=trials,\n",
    "          rstate=np.random.default_rng(random_state)\n",
    "         )\n",
    "print(f'Наилучшие значения гиперпараметров {best}')"
   ]
  },
  {
   "cell_type": "code",
   "execution_count": 31,
   "metadata": {},
   "outputs": [
    {
     "name": "stdout",
     "output_type": "stream",
     "text": [
      "f1_score на обучающем наборе: 0.98\n",
      "f1_score на тестовом наборе: 0.83\n"
     ]
    }
   ],
   "source": [
    "\n",
    "#рассчитаем точность для тестовой выборки\n",
    "model = ensemble.RandomForestClassifier(\n",
    "    random_state=random_state, \n",
    "    n_estimators=int(best['n_estimators']),\n",
    "    max_depth=int(best['max_depth']),\n",
    "    min_samples_leaf=int(best['min_samples_leaf'])\n",
    ")\n",
    "model.fit(X_train, y_train)\n",
    "y_train_pred = model.predict(X_train)\n",
    "print(f'f1_score на обучающем наборе: {metrics.f1_score(y_train, y_train_pred):.2f}')\n",
    "y_test_pred = model.predict(X_test)\n",
    "print(f'f1_score на тестовом наборе: {metrics.f1_score(y_test, y_test_pred):.2f}')"
   ]
  },
  {
   "cell_type": "markdown",
   "metadata": {},
   "source": [
    "## Optuna"
   ]
  },
  {
   "cell_type": "code",
   "execution_count": 32,
   "metadata": {},
   "outputs": [],
   "source": [
    "def optuna_rf(trial):\n",
    "  \n",
    "  n_estimators = trial.suggest_int('n_estimators', 100, 310, 30)\n",
    "  max_depth = trial.suggest_int('max_depth', 20, 40, 10)\n",
    "  min_samples_leaf = trial.suggest_int('min_samples_leaf', 2, 10, 1)\n",
    "\n",
    "  \n",
    "  model = ensemble.RandomForestClassifier(n_estimators=n_estimators,\n",
    "                                          max_depth=max_depth,\n",
    "                                          min_samples_leaf=min_samples_leaf,\n",
    "                                          random_state=42)\n",
    "  #обучаем модель с помощью кросс-валидации\n",
    "  #применяем cross validation с тем же количеством фолдов\n",
    "  score = cross_val_score(model, X_train, y_train, cv=5, scoring=\"f1\", n_jobs=-1).mean()\n",
    "\n",
    "  return score"
   ]
  },
  {
   "cell_type": "code",
   "execution_count": 33,
   "metadata": {},
   "outputs": [
    {
     "name": "stderr",
     "output_type": "stream",
     "text": [
      "[I 2023-08-08 16:35:55,509] A new study created in memory with name: RandomForestClassifier\n",
      "[I 2023-08-08 16:35:59,488] Trial 0 finished with value: 0.8052954120143164 and parameters: {'n_estimators': 160, 'max_depth': 30, 'min_samples_leaf': 4}. Best is trial 0 with value: 0.8052954120143164.\n",
      "[I 2023-08-08 16:36:05,766] Trial 1 finished with value: 0.8017452286706709 and parameters: {'n_estimators': 280, 'max_depth': 20, 'min_samples_leaf': 5}. Best is trial 0 with value: 0.8052954120143164.\n",
      "[I 2023-08-08 16:36:09,487] Trial 2 finished with value: 0.7988903752121587 and parameters: {'n_estimators': 160, 'max_depth': 20, 'min_samples_leaf': 6}. Best is trial 0 with value: 0.8052954120143164.\n",
      "[I 2023-08-08 16:36:14,328] Trial 3 finished with value: 0.8074122568066919 and parameters: {'n_estimators': 190, 'max_depth': 20, 'min_samples_leaf': 3}. Best is trial 3 with value: 0.8074122568066919.\n",
      "[I 2023-08-08 16:36:19,455] Trial 4 finished with value: 0.8024807470657234 and parameters: {'n_estimators': 220, 'max_depth': 20, 'min_samples_leaf': 5}. Best is trial 3 with value: 0.8074122568066919.\n",
      "[I 2023-08-08 16:36:22,868] Trial 5 finished with value: 0.8039761840885097 and parameters: {'n_estimators': 130, 'max_depth': 30, 'min_samples_leaf': 4}. Best is trial 3 with value: 0.8074122568066919.\n",
      "[I 2023-08-08 16:36:27,323] Trial 6 finished with value: 0.8006617307436145 and parameters: {'n_estimators': 190, 'max_depth': 30, 'min_samples_leaf': 5}. Best is trial 3 with value: 0.8074122568066919.\n",
      "[I 2023-08-08 16:36:34,673] Trial 7 finished with value: 0.8100888608943068 and parameters: {'n_estimators': 310, 'max_depth': 20, 'min_samples_leaf': 4}. Best is trial 7 with value: 0.8100888608943068.\n",
      "[I 2023-08-08 16:36:37,028] Trial 8 finished with value: 0.7990999594041635 and parameters: {'n_estimators': 100, 'max_depth': 30, 'min_samples_leaf': 8}. Best is trial 7 with value: 0.8100888608943068.\n",
      "[I 2023-08-08 16:36:40,035] Trial 9 finished with value: 0.7959169018451597 and parameters: {'n_estimators': 130, 'max_depth': 20, 'min_samples_leaf': 8}. Best is trial 7 with value: 0.8100888608943068.\n",
      "[I 2023-08-08 16:36:48,176] Trial 10 finished with value: 0.8138180946394777 and parameters: {'n_estimators': 310, 'max_depth': 40, 'min_samples_leaf': 2}. Best is trial 10 with value: 0.8138180946394777.\n",
      "[I 2023-08-08 16:36:56,384] Trial 11 finished with value: 0.8138180946394777 and parameters: {'n_estimators': 310, 'max_depth': 40, 'min_samples_leaf': 2}. Best is trial 10 with value: 0.8138180946394777.\n",
      "[I 2023-08-08 16:37:03,850] Trial 12 finished with value: 0.8148156881990406 and parameters: {'n_estimators': 280, 'max_depth': 40, 'min_samples_leaf': 2}. Best is trial 12 with value: 0.8148156881990406.\n",
      "[I 2023-08-08 16:37:10,629] Trial 13 finished with value: 0.8143986402870749 and parameters: {'n_estimators': 250, 'max_depth': 40, 'min_samples_leaf': 2}. Best is trial 12 with value: 0.8148156881990406.\n",
      "[I 2023-08-08 16:37:15,566] Trial 14 finished with value: 0.7915845098574344 and parameters: {'n_estimators': 250, 'max_depth': 40, 'min_samples_leaf': 10}. Best is trial 12 with value: 0.8148156881990406.\n",
      "[I 2023-08-08 16:37:22,385] Trial 15 finished with value: 0.8143986402870749 and parameters: {'n_estimators': 250, 'max_depth': 40, 'min_samples_leaf': 2}. Best is trial 12 with value: 0.8148156881990406.\n",
      "[I 2023-08-08 16:37:28,659] Trial 16 finished with value: 0.8119686149183554 and parameters: {'n_estimators': 250, 'max_depth': 40, 'min_samples_leaf': 3}. Best is trial 12 with value: 0.8148156881990406.\n",
      "[I 2023-08-08 16:37:34,530] Trial 17 finished with value: 0.7972682478213984 and parameters: {'n_estimators': 280, 'max_depth': 40, 'min_samples_leaf': 7}. Best is trial 12 with value: 0.8148156881990406.\n",
      "[I 2023-08-08 16:37:40,223] Trial 18 finished with value: 0.8092652543060641 and parameters: {'n_estimators': 220, 'max_depth': 40, 'min_samples_leaf': 3}. Best is trial 12 with value: 0.8148156881990406.\n",
      "[I 2023-08-08 16:37:45,745] Trial 19 finished with value: 0.790731721378606 and parameters: {'n_estimators': 280, 'max_depth': 30, 'min_samples_leaf': 10}. Best is trial 12 with value: 0.8148156881990406.\n"
     ]
    },
    {
     "name": "stdout",
     "output_type": "stream",
     "text": [
      "CPU times: total: 844 ms\n",
      "Wall time: 1min 50s\n"
     ]
    }
   ],
   "source": [
    "%%time\n",
    "#cоздаем объект исследования\n",
    "study = optuna.create_study(study_name=\"RandomForestClassifier\", direction=\"maximize\")\n",
    "#находим лучшую комбинацию гиперпараметров n_trials раз\n",
    "study.optimize(optuna_rf, n_trials=20)"
   ]
  },
  {
   "cell_type": "code",
   "execution_count": 34,
   "metadata": {},
   "outputs": [
    {
     "name": "stdout",
     "output_type": "stream",
     "text": [
      "Наилучшие значения гиперпараметров {'n_estimators': 280, 'max_depth': 40, 'min_samples_leaf': 2}\n",
      "f1_score на обучающем наборе: 0.81\n"
     ]
    }
   ],
   "source": [
    "#выводим результаты на обучающей выборке\n",
    "print(f'Наилучшие значения гиперпараметров {study.best_params}')\n",
    "print(f'f1_score на обучающем наборе: {study.best_value:.2f}')"
   ]
  },
  {
   "cell_type": "code",
   "execution_count": 35,
   "metadata": {},
   "outputs": [
    {
     "name": "stdout",
     "output_type": "stream",
     "text": [
      "f1_score на обучающем наборе: 0.99\n",
      "f1_score на тестовом наборе: 0.82\n"
     ]
    }
   ],
   "source": [
    "#рассчитаем точность для тестовой выборки\n",
    "model = ensemble.RandomForestClassifier(**study.best_params,random_state=random_state)\n",
    "model.fit(X_train, y_train)\n",
    "y_train_pred = model.predict(X_train)\n",
    "print(f'f1_score на обучающем наборе: {metrics.f1_score(y_train, y_train_pred):.2f}')\n",
    "y_test_pred = model.predict(X_test)\n",
    "print(f'f1_score на тестовом наборе: {metrics.f1_score(y_test, y_test_pred):.2f}')"
   ]
  }
 ],
 "metadata": {
  "kernelspec": {
   "display_name": "Python 3",
   "language": "python",
   "name": "python3"
  },
  "language_info": {
   "codemirror_mode": {
    "name": "ipython",
    "version": 3
   },
   "file_extension": ".py",
   "mimetype": "text/x-python",
   "name": "python",
   "nbconvert_exporter": "python",
   "pygments_lexer": "ipython3",
   "version": "3.11.4"
  },
  "orig_nbformat": 4
 },
 "nbformat": 4,
 "nbformat_minor": 2
}
