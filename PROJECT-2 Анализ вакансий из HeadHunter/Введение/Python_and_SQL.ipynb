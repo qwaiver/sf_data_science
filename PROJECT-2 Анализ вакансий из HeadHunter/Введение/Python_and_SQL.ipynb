{
  "cells": [
    {
      "cell_type": "markdown",
      "id": "963361ba",
      "metadata": {
        "id": "963361ba"
      },
      "source": [
        "### Настройки"
      ]
    },
    {
      "cell_type": "markdown",
      "id": "BAOI-9wun13V",
      "metadata": {
        "id": "BAOI-9wun13V"
      },
      "source": [
        "Начинаем с импорта библиотек"
      ]
    },
    {
      "cell_type": "code",
      "execution_count": 7,
      "id": "928bd544",
      "metadata": {
        "id": "928bd544"
      },
      "outputs": [],
      "source": [
        "import pandas as pd\n",
        "import psycopg2"
      ]
    },
    {
      "cell_type": "code",
      "execution_count": 8,
      "id": "hs66HgVWqgRA",
      "metadata": {
        "id": "hs66HgVWqgRA"
      },
      "outputs": [],
      "source": [
        "# хороший тон при фиксации изменений в github не публиковать код с открытыми данными для входа\n",
        "# для запуска кода поместите данные, которые указаны на странице курса в эту ячейку\n",
        "# при размещении в github удалите эту ячейку\n",
        "DBNAME = 'project_sql'\n",
        "USER = ' '\n",
        "PASSWORD = ' '\n",
        "HOST = ' '\n",
        "PORT = 666 "
      ]
    },
    {
      "cell_type": "markdown",
      "id": "TEgQI_RKfqa9",
      "metadata": {
        "id": "TEgQI_RKfqa9"
      },
      "source": [
        "Создаем соединение с заданными параметрами"
      ]
    },
    {
      "cell_type": "code",
      "execution_count": 9,
      "id": "70d84b8f",
      "metadata": {
        "id": "70d84b8f"
      },
      "outputs": [],
      "source": [
        "connection = psycopg2.connect(\n",
        "    dbname=DBNAME,\n",
        "    user=USER,\n",
        "    host=HOST,\n",
        "    password=PASSWORD,\n",
        "    port=PORT\n",
        ")"
      ]
    },
    {
      "cell_type": "markdown",
      "id": "06k1EnoRiC-I",
      "metadata": {
        "id": "06k1EnoRiC-I"
      },
      "source": [
        "Запрос"
      ]
    },
    {
      "cell_type": "code",
      "execution_count": 10,
      "id": "35e24169",
      "metadata": {
        "id": "35e24169"
      },
      "outputs": [],
      "source": [
        "# код запроса представляет из себя строковую переменную\n",
        "n = 10\n",
        "query = f'''select * \n",
        "            from sql.pokemon \n",
        "            limit {n}\n",
        "         '''\n",
        "# лучше использовать f-строки - так удобнее передавать параметры"
      ]
    },
    {
      "cell_type": "markdown",
      "id": "52648c9f",
      "metadata": {
        "id": "52648c9f"
      },
      "source": [
        "### Выполнение запроса"
      ]
    },
    {
      "cell_type": "code",
      "execution_count": 11,
      "id": "2fe9f6eb",
      "metadata": {
        "colab": {
          "base_uri": "https://localhost:8080/",
          "height": 363
        },
        "id": "2fe9f6eb",
        "outputId": "771dd6f1-4300-4076-e462-d7ce388295d5"
      },
      "outputs": [
        {
          "name": "stderr",
          "output_type": "stream",
          "text": [
            "C:\\Users\\qwaiv\\AppData\\Local\\Temp\\ipykernel_13232\\2473184231.py:2: UserWarning: pandas only supports SQLAlchemy connectable (engine/connection) or database string URI or sqlite3 DBAPI2 connection. Other DBAPI2 objects are not tested. Please consider using SQLAlchemy.\n",
            "  df = pd.read_sql_query(query, connection)\n"
          ]
        },
        {
          "ename": "DatabaseError",
          "evalue": "Execution failed on sql 'select * \n            from sql.pokemon \n            limit 10\n         ': relation \"sql.pokemon\" does not exist\nLINE 2:             from sql.pokemon \n                         ^\n",
          "output_type": "error",
          "traceback": [
            "\u001b[1;31m---------------------------------------------------------------------------\u001b[0m",
            "\u001b[1;31mUndefinedTable\u001b[0m                            Traceback (most recent call last)",
            "File \u001b[1;32md:\\Program Files\\Python311\\Lib\\site-packages\\pandas\\io\\sql.py:2018\u001b[0m, in \u001b[0;36mSQLiteDatabase.execute\u001b[1;34m(self, *args, **kwargs)\u001b[0m\n\u001b[0;32m   2017\u001b[0m \u001b[39mtry\u001b[39;00m:\n\u001b[1;32m-> 2018\u001b[0m     cur\u001b[39m.\u001b[39;49mexecute(\u001b[39m*\u001b[39;49margs, \u001b[39m*\u001b[39;49m\u001b[39m*\u001b[39;49mkwargs)\n\u001b[0;32m   2019\u001b[0m     \u001b[39mreturn\u001b[39;00m cur\n",
            "\u001b[1;31mUndefinedTable\u001b[0m: relation \"sql.pokemon\" does not exist\nLINE 2:             from sql.pokemon \n                         ^\n",
            "\nThe above exception was the direct cause of the following exception:\n",
            "\u001b[1;31mDatabaseError\u001b[0m                             Traceback (most recent call last)",
            "Cell \u001b[1;32mIn[11], line 2\u001b[0m\n\u001b[0;32m      1\u001b[0m \u001b[39m# используем метод read_sql_query, чтобы получить результаты запроса сразу в виде датафрейма\u001b[39;00m\n\u001b[1;32m----> 2\u001b[0m df \u001b[39m=\u001b[39m pd\u001b[39m.\u001b[39;49mread_sql_query(query, connection)\n\u001b[0;32m      3\u001b[0m df\n",
            "File \u001b[1;32md:\\Program Files\\Python311\\Lib\\site-packages\\pandas\\io\\sql.py:397\u001b[0m, in \u001b[0;36mread_sql_query\u001b[1;34m(sql, con, index_col, coerce_float, params, parse_dates, chunksize, dtype)\u001b[0m\n\u001b[0;32m    339\u001b[0m \u001b[39m\"\"\"\u001b[39;00m\n\u001b[0;32m    340\u001b[0m \u001b[39mRead SQL query into a DataFrame.\u001b[39;00m\n\u001b[0;32m    341\u001b[0m \n\u001b[1;32m   (...)\u001b[0m\n\u001b[0;32m    394\u001b[0m \u001b[39mparameter will be converted to UTC.\u001b[39;00m\n\u001b[0;32m    395\u001b[0m \u001b[39m\"\"\"\u001b[39;00m\n\u001b[0;32m    396\u001b[0m pandas_sql \u001b[39m=\u001b[39m pandasSQL_builder(con)\n\u001b[1;32m--> 397\u001b[0m \u001b[39mreturn\u001b[39;00m pandas_sql\u001b[39m.\u001b[39;49mread_query(\n\u001b[0;32m    398\u001b[0m     sql,\n\u001b[0;32m    399\u001b[0m     index_col\u001b[39m=\u001b[39;49mindex_col,\n\u001b[0;32m    400\u001b[0m     params\u001b[39m=\u001b[39;49mparams,\n\u001b[0;32m    401\u001b[0m     coerce_float\u001b[39m=\u001b[39;49mcoerce_float,\n\u001b[0;32m    402\u001b[0m     parse_dates\u001b[39m=\u001b[39;49mparse_dates,\n\u001b[0;32m    403\u001b[0m     chunksize\u001b[39m=\u001b[39;49mchunksize,\n\u001b[0;32m    404\u001b[0m     dtype\u001b[39m=\u001b[39;49mdtype,\n\u001b[0;32m    405\u001b[0m )\n",
            "File \u001b[1;32md:\\Program Files\\Python311\\Lib\\site-packages\\pandas\\io\\sql.py:2078\u001b[0m, in \u001b[0;36mSQLiteDatabase.read_query\u001b[1;34m(self, sql, index_col, coerce_float, params, parse_dates, chunksize, dtype)\u001b[0m\n\u001b[0;32m   2066\u001b[0m \u001b[39mdef\u001b[39;00m \u001b[39mread_query\u001b[39m(\n\u001b[0;32m   2067\u001b[0m     \u001b[39mself\u001b[39m,\n\u001b[0;32m   2068\u001b[0m     sql,\n\u001b[1;32m   (...)\u001b[0m\n\u001b[0;32m   2074\u001b[0m     dtype: DtypeArg \u001b[39m|\u001b[39m \u001b[39mNone\u001b[39;00m \u001b[39m=\u001b[39m \u001b[39mNone\u001b[39;00m,\n\u001b[0;32m   2075\u001b[0m ) \u001b[39m-\u001b[39m\u001b[39m>\u001b[39m DataFrame \u001b[39m|\u001b[39m Iterator[DataFrame]:\n\u001b[0;32m   2077\u001b[0m     args \u001b[39m=\u001b[39m _convert_params(sql, params)\n\u001b[1;32m-> 2078\u001b[0m     cursor \u001b[39m=\u001b[39m \u001b[39mself\u001b[39;49m\u001b[39m.\u001b[39;49mexecute(\u001b[39m*\u001b[39;49margs)\n\u001b[0;32m   2079\u001b[0m     columns \u001b[39m=\u001b[39m [col_desc[\u001b[39m0\u001b[39m] \u001b[39mfor\u001b[39;00m col_desc \u001b[39min\u001b[39;00m cursor\u001b[39m.\u001b[39mdescription]\n\u001b[0;32m   2081\u001b[0m     \u001b[39mif\u001b[39;00m chunksize \u001b[39mis\u001b[39;00m \u001b[39mnot\u001b[39;00m \u001b[39mNone\u001b[39;00m:\n",
            "File \u001b[1;32md:\\Program Files\\Python311\\Lib\\site-packages\\pandas\\io\\sql.py:2030\u001b[0m, in \u001b[0;36mSQLiteDatabase.execute\u001b[1;34m(self, *args, **kwargs)\u001b[0m\n\u001b[0;32m   2027\u001b[0m     \u001b[39mraise\u001b[39;00m ex \u001b[39mfrom\u001b[39;00m \u001b[39minner_exc\u001b[39;00m\n\u001b[0;32m   2029\u001b[0m ex \u001b[39m=\u001b[39m DatabaseError(\u001b[39mf\u001b[39m\u001b[39m\"\u001b[39m\u001b[39mExecution failed on sql \u001b[39m\u001b[39m'\u001b[39m\u001b[39m{\u001b[39;00margs[\u001b[39m0\u001b[39m]\u001b[39m}\u001b[39;00m\u001b[39m'\u001b[39m\u001b[39m: \u001b[39m\u001b[39m{\u001b[39;00mexc\u001b[39m}\u001b[39;00m\u001b[39m\"\u001b[39m)\n\u001b[1;32m-> 2030\u001b[0m \u001b[39mraise\u001b[39;00m ex \u001b[39mfrom\u001b[39;00m \u001b[39mexc\u001b[39;00m\n",
            "\u001b[1;31mDatabaseError\u001b[0m: Execution failed on sql 'select * \n            from sql.pokemon \n            limit 10\n         ': relation \"sql.pokemon\" does not exist\nLINE 2:             from sql.pokemon \n                         ^\n"
          ]
        }
      ],
      "source": [
        "# используем метод read_sql_query, чтобы получить результаты запроса сразу в виде датафрейма\n",
        "df = pd.read_sql_query(query, connection)\n",
        "df"
      ]
    },
    {
      "cell_type": "markdown",
      "id": "622e62c1",
      "metadata": {
        "id": "622e62c1"
      },
      "source": [
        "### Финал"
      ]
    },
    {
      "cell_type": "code",
      "execution_count": null,
      "id": "8a103f6a",
      "metadata": {
        "id": "8a103f6a"
      },
      "outputs": [],
      "source": [
        "# не забываем закрыть соединение после окончания работы\n",
        "connection.close()"
      ]
    }
  ],
  "metadata": {
    "colab": {
      "collapsed_sections": [],
      "provenance": []
    },
    "kernelspec": {
      "display_name": "Python 3",
      "language": "python",
      "name": "python3"
    },
    "language_info": {
      "codemirror_mode": {
        "name": "ipython",
        "version": 3
      },
      "file_extension": ".py",
      "mimetype": "text/x-python",
      "name": "python",
      "nbconvert_exporter": "python",
      "pygments_lexer": "ipython3",
      "version": "3.11.0"
    },
    "vscode": {
      "interpreter": {
        "hash": "3b03d3ad6b1336e6e4949d619e4badd72fec28959454a0e0d6a04b545beba08a"
      }
    }
  },
  "nbformat": 4,
  "nbformat_minor": 5
}
