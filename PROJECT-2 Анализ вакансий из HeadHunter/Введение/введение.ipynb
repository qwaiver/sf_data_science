{
 "cells": [
  {
   "attachments": {},
   "cell_type": "markdown",
   "metadata": {},
   "source": [
    "!pip install psycopg2\n",
    "\n",
    "Для подключения нам потребуются следующие данные:\n",
    "\n",
    "* dbname — название базы, к которой нужно подключиться;\n",
    "* user — имя пользователя в СУБД;\n",
    "* password — пароль;\n",
    "* host — адрес, по которому нужно подключиться;\n",
    "* port — порт, к которому нужно подключиться (по умолчанию равен 5432).\n",
    "\n",
    "Для нашей базы эти параметры такие:\n",
    "\n",
    "DBNAME = 'project_sql'\n",
    "USER = 'skillfactory'\n",
    "PASSWORD = 'cCkxxLVrDE8EbvjueeMedPKt'\n",
    "HOST = '84.201.134.129'\n",
    "PORT = 5432"
   ]
  },
  {
   "attachments": {},
   "cell_type": "markdown",
   "metadata": {},
   "source": [
    "Наш проект включает в себя несколько этапов:\n",
    "* знакомство с данными;\n",
    "* предварительный анализ данных;\n",
    "* детальный анализ вакансий;\n",
    "* анализ работодателей;\n",
    "* предметный анализ."
   ]
  },
  {
   "cell_type": "code",
   "execution_count": null,
   "metadata": {},
   "outputs": [],
   "source": []
  }
 ],
 "metadata": {
  "language_info": {
   "name": "python"
  },
  "orig_nbformat": 4
 },
 "nbformat": 4,
 "nbformat_minor": 2
}
