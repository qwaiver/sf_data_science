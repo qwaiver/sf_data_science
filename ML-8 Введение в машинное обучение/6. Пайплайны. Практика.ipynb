{
 "cells": [
  {
   "cell_type": "markdown",
   "metadata": {},
   "source": [
    "6.1 На основании датасета предсказания рейтинга красного вина, с которым вы работали в разделе о предобработке данных в предыдущем юните (файл Red.csv ), вам предстоит выполнить следующее:\n",
    "\n",
    "Добавить в пайплайн, созданный вами в предыдущем юните, обработку столбца 'Region'. Кодирование 'Region' произвести с использованием OrdinalEncoder. Стандартизацию столбца 'Price' и кодирование столбца 'Country' осуществить в соответствии с примером, представленным в юните 5.\n",
    "Важно! Для совпадения результатов процесс трансформации столбцов должен выполняться в следующей последовательности:\n",
    "\n",
    "Кодирование столбца 'Region' через OrdinalEncoder.\n",
    "Стандартизация столбца 'Price'.\n",
    "Кодирование столбца 'Country' через OneHotEncoder.\n",
    "Обучить пайплайн на тренировочном наборе данных (файл Red.csv ) и оценить качество модели по метрике RMSE на тестовом наборе (файл Red_test.csv ).\n",
    "Зафиксировать random_state=42.\n",
    "Сохранить пайплайн в файл pipeline_wine.pkl.\n",
    "В качестве ответа на задание введите в поле ниже полученный результат по метрике RMSE, округленный до четвёртого знака после запятой."
   ]
  },
  {
   "cell_type": "code",
   "execution_count": null,
   "metadata": {},
   "outputs": [],
   "source": [
    "from sklearn.preprocessing import OrdinalEncoder\n",
    "df_wine = pd.read_csv('data/Red.csv')\n",
    "X = df_wine[['Country', 'Price', 'Region']]\n",
    "y = df_wine['Rating']\n",
    " \n",
    "ct = make_column_transformer(\n",
    "    (OrdinalEncoder(), ['Region']),\n",
    "     (StandardScaler(), ['Price']),\n",
    "    (OneHotEncoder(), ['Country']),\n",
    "    )\n",
    " \n",
    "pipeline = Pipeline([('ct', ct), ('rf', RandomForestRegressor(random_state=42))])\n",
    "pipeline.fit(X,y)\n",
    " \n",
    "df_wine_test = pd.read_csv('data/Red_test.csv')\n",
    "X_test = df_wine_test[['Country', 'Price', 'Region']]\n",
    "y_test = df_wine_test['Rating']\n",
    "y_pred = pipeline.predict(X_test)\n",
    "print(f'Качество по RSME: {round(rmse(y_test, y_pred),4)}')\n",
    " \n",
    "joblib.dump(pipeline, 'pipeline_vine.pkl')\n",
    "#Качество по RSME: 0.0765"
   ]
  },
  {
   "cell_type": "markdown",
   "metadata": {},
   "source": [
    "Задание 6.2\n",
    "Теперь попробуем изменить параметры случайного леса в пайплайне, полученном в предыдущем задании.\n",
    "\n",
    "Измените параметр n_estimators в случайном лесу со значения по умолчанию до 200 , используя метод set_params.\n",
    "\n",
    "В качестве ответа на задание введите в поле ниже полученный результат по метрике RMSE, округленный до четвёртого знака после запятой."
   ]
  },
  {
   "cell_type": "code",
   "execution_count": null,
   "metadata": {},
   "outputs": [],
   "source": [
    "pipeline.set_params(rf__n_estimators = 200)\n",
    "pipeline.fit(X,y)\n",
    " \n",
    "df_wine_test = pd.read_csv('data/Red_test.csv')\n",
    "X_test = df_wine_test[['Country', 'Price', 'Region']]\n",
    "y_test = df_wine_test['Rating']\n",
    "y_pred = pipeline.predict(X_test)\n",
    "print(f'Качество по RSME: {round(rmse(y_test, y_pred),4)}')\n",
    "#0.0761"
   ]
  },
  {
   "cell_type": "markdown",
   "metadata": {},
   "source": [
    "Задание 6.3\n",
    "Теперь попробуем добавить стекинг в качестве модели в пайплайн.\n",
    "\n",
    "Вам следует выполнить следующее:\n",
    "\n",
    "* Собрать StackingRegressor:\n",
    "    1. В качестве базовых моделей возьмите ридж-регрессию RidgeCV() и решающее дерево.\n",
    "    2. В качестве метамодели возьмите случайный лес с настройками (количество базовых моделей 10).\n",
    "    3. Все базовые модели стекинга модели должны быть с настройками по умолчанию (кроме random_state).\n",
    "* Зафиксировать random_state=42 (для всех моделей).\n",
    "* Заменить в пайплайне задачи 6.1 случайный лес на StackingRegressor.\n",
    "* Обучить модель на тренировочной выборке.\n",
    "В качестве ответа на задание введите в поле ниже полученный результат по метрике RMSE, округлённый до второго знака после запятой."
   ]
  },
  {
   "cell_type": "code",
   "execution_count": null,
   "metadata": {},
   "outputs": [],
   "source": [
    "from sklearn.linear_model import RidgeCV\n",
    "from sklearn.tree import DecisionTreeRegressor\n",
    "from sklearn.ensemble import StackingRegressor\n",
    "\n",
    "estimators = [\n",
    "    ('lr', RidgeCV()),\n",
    "    ('dt',  DecisionTreeRegressor(random_state=42))\n",
    "]\n",
    " \n",
    "reg = StackingRegressor(\n",
    "    estimators=estimators,\n",
    "    final_estimator=RandomForestRegressor(n_estimators=10,\n",
    "                                          random_state=42)\n",
    ")\n",
    " \n",
    " \n",
    "from sklearn.preprocessing import OrdinalEncoder\n",
    "df_wine= pd.read_csv('data/Red.csv')\n",
    "X = df_wine[['Country', 'Price', 'Region']]\n",
    "y = df_wine['Rating']\n",
    " \n",
    "ct = make_column_transformer(\n",
    "    (OrdinalEncoder(), ['Region']),\n",
    "     (StandardScaler(), ['Price']),\n",
    "    (OneHotEncoder(), ['Country']),\n",
    "    )\n",
    " \n",
    "pipeline = Pipeline([('ct', ct), ('stack',reg) ])\n",
    "pipeline.fit(X,y)\n",
    " \n",
    " \n",
    "df_wine_test = pd.read_csv('data/Red_test.csv')\n",
    "X_test = df_wine_test[['Country', 'Price', 'Region']]\n",
    "y_test = df_wine_test['Rating']\n",
    "y_pred = pipeline.predict(X_test)\n",
    "print(f'Качество по RSME: {round(rmse(y_test, y_pred),2)}')\n",
    "# Качество по RSME: 0.18"
   ]
  }
 ],
 "metadata": {
  "language_info": {
   "name": "python"
  },
  "orig_nbformat": 4
 },
 "nbformat": 4,
 "nbformat_minor": 2
}
