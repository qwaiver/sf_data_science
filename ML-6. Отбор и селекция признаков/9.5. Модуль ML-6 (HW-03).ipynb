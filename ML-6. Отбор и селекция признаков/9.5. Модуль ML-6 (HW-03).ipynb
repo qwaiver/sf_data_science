{
 "cells": [
  {
   "cell_type": "markdown",
   "metadata": {},
   "source": [
    "Обучите модель линейной регрессии на найденных двумя способами трёх важных признаках и сравните полученные результаты.\n",
    "\n",
    "КРИТЕРИИ ОЦЕНИВАНИЯ:\n",
    "\n",
    "* 1 балл\tВерно выделены три столбца-признака для обучения, выбранные RFE.\n",
    "* 1 балл\tВерно выделены три столбца-признака для обучения, выбранные SelectKBest.\n",
    "* 3 балла\tОбучена регрессия на первых трёх столбцах, оценено качество модели на тесте.\n",
    "* 3 балла\tОбучена регрессия на вторых трёх столбцах, оценено качество модели на тесте.\n",
    "* 2 балла\tПроизведено сравнение выбранных метрик в форме комментария. Дан ответ на вопрос «Какой метод отбора признаков показал наилучший результат на тестовой выборке?» (в текстовой ячейке).\n",
    "\n",
    "Максимальное количество баллов за выполнение задания — 10."
   ]
  },
  {
   "cell_type": "code",
   "execution_count": 33,
   "metadata": {},
   "outputs": [],
   "source": [
    "import pandas as pd\n",
    "\n",
    "from sklearn.model_selection import train_test_split\n",
    "from sklearn.linear_model import LinearRegression\n",
    "from sklearn.feature_selection import RFE\n",
    "from sklearn.feature_selection import SelectKBest, f_regression\n",
    "from sklearn.metrics import mean_absolute_error\n",
    "from sklearn.metrics import r2_score\n",
    "from sklearn.metrics import mean_absolute_percentage_error"
   ]
  },
  {
   "cell_type": "code",
   "execution_count": 34,
   "metadata": {},
   "outputs": [
    {
     "name": "stdout",
     "output_type": "stream",
     "text": [
      "<class 'pandas.core.frame.DataFrame'>\n",
      "RangeIndex: 7017 entries, 0 to 7016\n",
      "Data columns (total 12 columns):\n",
      " #   Column        Non-Null Count  Dtype  \n",
      "---  ------        --------------  -----  \n",
      " 0   price         7017 non-null   int64  \n",
      " 1   year          7017 non-null   int64  \n",
      " 2   condition     7017 non-null   int64  \n",
      " 3   cylinders     7017 non-null   int64  \n",
      " 4   odometer      7017 non-null   int64  \n",
      " 5   title_status  7017 non-null   object \n",
      " 6   transmission  7017 non-null   object \n",
      " 7   drive         6626 non-null   object \n",
      " 8   size          5453 non-null   object \n",
      " 9   lat           7017 non-null   float64\n",
      " 10  long          7017 non-null   float64\n",
      " 11  weather       6837 non-null   float64\n",
      "dtypes: float64(3), int64(5), object(4)\n",
      "memory usage: 658.0+ KB\n"
     ]
    }
   ],
   "source": [
    "data = pd.read_excel('data/data_ford_price.xlsx') \n",
    "data.info()"
   ]
  },
  {
   "cell_type": "code",
   "execution_count": 35,
   "metadata": {},
   "outputs": [],
   "source": [
    "data = data[['price','year', 'cylinders', 'odometer', 'lat', 'long', 'weather']]\n",
    "data.dropna(inplace = True)\n",
    "\n",
    "y = data['price']\n",
    "x = data.drop(columns='price')\n",
    "\n",
    "X_train, X_test, y_train, y_test = train_test_split(x, y, test_size=0.3, random_state=40)"
   ]
  },
  {
   "cell_type": "markdown",
   "metadata": {},
   "source": [
    "# Выделим три столбца-признака для обучения, выбранные RFE."
   ]
  },
  {
   "cell_type": "code",
   "execution_count": 36,
   "metadata": {},
   "outputs": [
    {
     "data": {
      "text/plain": [
       "array(['year', 'cylinders', 'lat'], dtype=object)"
      ]
     },
     "execution_count": 36,
     "metadata": {},
     "output_type": "execute_result"
    }
   ],
   "source": [
    "estimator = LinearRegression()\n",
    "selector = RFE(estimator, n_features_to_select=3, step=1)\n",
    "selector = selector.fit(X_train, y_train)\n",
    " \n",
    "selector.get_feature_names_out()"
   ]
  },
  {
   "cell_type": "markdown",
   "metadata": {},
   "source": [
    "# Выделим три столбца-признака для обучения, выбранные SelectKBest."
   ]
  },
  {
   "cell_type": "code",
   "execution_count": 37,
   "metadata": {},
   "outputs": [
    {
     "data": {
      "text/plain": [
       "array(['year', 'cylinders', 'odometer'], dtype=object)"
      ]
     },
     "execution_count": 37,
     "metadata": {},
     "output_type": "execute_result"
    }
   ],
   "source": [
    "selector = SelectKBest(f_regression, k=3)\n",
    "selector.fit(X_train, y_train)\n",
    " \n",
    "selector.get_feature_names_out()"
   ]
  },
  {
   "cell_type": "markdown",
   "metadata": {},
   "source": [
    "# Обучим регрессия на первых трёх столбцах, оцененим качество модели на тесте."
   ]
  },
  {
   "cell_type": "code",
   "execution_count": 38,
   "metadata": {},
   "outputs": [],
   "source": [
    "data.dropna(inplace=True)\n",
    "\n",
    "y = data['price']\n",
    "X = data.drop(columns='price')\n",
    "\n",
    "X_train, X_test, y_train, y_test = train_test_split(x, y, test_size=0.2, random_state=42)"
   ]
  },
  {
   "cell_type": "code",
   "execution_count": 42,
   "metadata": {},
   "outputs": [
    {
     "data": {
      "text/plain": [
       "'Test MAE: 5280'"
      ]
     },
     "metadata": {},
     "output_type": "display_data"
    },
    {
     "data": {
      "text/plain": [
       "'Test MAPE: 15314'"
      ]
     },
     "metadata": {},
     "output_type": "display_data"
    },
    {
     "data": {
      "text/plain": [
       "'Test R^2: 0.562'"
      ]
     },
     "metadata": {},
     "output_type": "display_data"
    }
   ],
   "source": [
    "X_train_rfe = X_train[['year', 'cylinders', 'lat']]\n",
    "X_test_rfe = X_test[['year', 'cylinders', 'lat']]\n",
    "\n",
    "model = LinearRegression()\n",
    "model.fit(X_train_rfe, y_train)\n",
    "y_predict = model.predict(X_test_rfe)\n",
    "\n",
    "display(f'Test MAE: {metrics.mean_absolute_error(y_test, y_predict):.0f}')\n",
    "display(f'Test MAPE: {metrics.mean_absolute_percentage_error(y_test, y_predict)*100:.0f}')\n",
    "display(f'Test R^2: {metrics.r2_score(y_test, y_predict):.3f}')"
   ]
  },
  {
   "cell_type": "markdown",
   "metadata": {},
   "source": [
    "# Обучим регрессию на вторых трёх столбцах, оценено качество модели на тесте."
   ]
  },
  {
   "cell_type": "code",
   "execution_count": 40,
   "metadata": {},
   "outputs": [
    {
     "data": {
      "text/plain": [
       "'Test MAE: 4925'"
      ]
     },
     "metadata": {},
     "output_type": "display_data"
    },
    {
     "data": {
      "text/plain": [
       "'Test MAPE: 16291'"
      ]
     },
     "metadata": {},
     "output_type": "display_data"
    },
    {
     "data": {
      "text/plain": [
       "'Test R^2: 0.598'"
      ]
     },
     "metadata": {},
     "output_type": "display_data"
    }
   ],
   "source": [
    "X_train_skb = X_train[['year', 'cylinders', 'odometer']]\n",
    "X_test_skb = X_test[['year', 'cylinders', 'odometer']]\n",
    "\n",
    "model = LinearRegression()\n",
    "model.fit(X_train_skb, y_train)\n",
    "y_predict = model.predict(X_test_skb)\n",
    "\n",
    "\n",
    "display(f'Test MAE: {metrics.mean_absolute_error(y_test, y_predict):.0f}')\n",
    "display(f'Test MAPE: {metrics.mean_absolute_percentage_error(y_test, y_predict)*100:.0f}')\n",
    "display(f'Test R^2: {metrics.r2_score(y_test, y_predict):.3f}')"
   ]
  },
  {
   "cell_type": "markdown",
   "metadata": {},
   "source": [
    "# Вывод"
   ]
  },
  {
   "cell_type": "markdown",
   "metadata": {},
   "source": [
    "Вывод: \n",
    "MAE - показывает насколько в среднем модель ошибается,чем ближе к нулю, тем лучше, MAE ниже у второй модели.\n",
    "\n",
    "MAPE - показывает, на сколько процентов в среднем наше предсказание отклоняется от реального значения. чем ниже, тем лучше, выражается в %, ниже у первого.\n",
    "\n",
    "R2 - показывает, насколько наша модель лучше, чем если бы все предсказания были средним по правильным ответам. Обе модели примерно равны, метрика ~0.6, модели можно считать удовлетворительными.\n",
    "\n",
    "Судя по MAPE предсказания тестовой выборки отличпаются от реальных более чем на 15000 %, метрика для данного случия не верная? Или ошибка в том, что данные сырые?"
   ]
  }
 ],
 "metadata": {
  "kernelspec": {
   "display_name": "Python 3",
   "language": "python",
   "name": "python3"
  },
  "language_info": {
   "codemirror_mode": {
    "name": "ipython",
    "version": 3
   },
   "file_extension": ".py",
   "mimetype": "text/x-python",
   "name": "python",
   "nbconvert_exporter": "python",
   "pygments_lexer": "ipython3",
   "version": "3.11.4"
  },
  "orig_nbformat": 4
 },
 "nbformat": 4,
 "nbformat_minor": 2
}
