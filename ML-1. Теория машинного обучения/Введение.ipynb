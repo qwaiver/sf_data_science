{
 "cells": [
  {
   "attachments": {},
   "cell_type": "markdown",
   "metadata": {},
   "source": [
    "Machine Learning (машинное обучение) — это направление, объединяющее технологии создания самообучающихся алгоритмов."
   ]
  },
  {
   "attachments": {},
   "cell_type": "markdown",
   "metadata": {},
   "source": [
    "Напомним, что в широком понимании Data Science состоит из трёх частей:\n",
    "\n",
    "* Data Engineering (инженерия данных),\n",
    "* Data Analytics (анализ данных),\n",
    "* Machine Learning (машинное обучение)."
   ]
  },
  {
   "attachments": {},
   "cell_type": "markdown",
   "metadata": {},
   "source": [
    "1.1 мультиколлинеарность - Сильная корреляционная связь между признаками"
   ]
  },
  {
   "attachments": {},
   "cell_type": "markdown",
   "metadata": {},
   "source": [
    "* IDE - Для разработки программ в графическом интерфейсе на локальном компьютере\n",
    "* Comet.ml - Для отслеживания экспериментов\n",
    "* алькулятор VWO - Для вычисления времени длительности A/B-тестирования (https://vwo.com/tools/ab-test-duration-calculator/)\n",
    "* библиотека AutoML - Для автоматического построения модели машинного обучения"
   ]
  },
  {
   "attachments": {},
   "cell_type": "markdown",
   "metadata": {},
   "source": [
    "Стандартизация - Метод преобразования признаков, при котором распределение изменяется таким образом, чтобы среднее значений равнялось 0, а стандартное отклонение — 1."
   ]
  },
  {
   "cell_type": "code",
   "execution_count": null,
   "metadata": {},
   "outputs": [],
   "source": []
  }
 ],
 "metadata": {
  "language_info": {
   "name": "python"
  },
  "orig_nbformat": 4
 },
 "nbformat": 4,
 "nbformat_minor": 2
}
